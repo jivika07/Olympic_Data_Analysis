{
 "cells": [
  {
   "cell_type": "code",
   "execution_count": 1,
   "metadata": {
    "execution": {
     "iopub.execute_input": "2025-08-11T16:03:00.233866Z",
     "iopub.status.busy": "2025-08-11T16:03:00.233343Z",
     "iopub.status.idle": "2025-08-11T16:03:01.110693Z",
     "shell.execute_reply": "2025-08-11T16:03:01.109748Z"
    }
   },
   "outputs": [],
   "source": [
    "import pandas as pd "
   ]
  },
  {
   "cell_type": "code",
   "execution_count": 2,
   "metadata": {
    "execution": {
     "iopub.execute_input": "2025-08-11T16:03:01.116451Z",
     "iopub.status.busy": "2025-08-11T16:03:01.115876Z",
     "iopub.status.idle": "2025-08-11T16:03:02.710911Z",
     "shell.execute_reply": "2025-08-11T16:03:02.709995Z"
    }
   },
   "outputs": [
    {
     "ename": "ModuleNotFoundError",
     "evalue": "No module named 'seaborn'",
     "output_type": "error",
     "traceback": [
      "\u001b[31m---------------------------------------------------------------------------\u001b[39m",
      "\u001b[31mModuleNotFoundError\u001b[39m                       Traceback (most recent call last)",
      "\u001b[36mCell\u001b[39m\u001b[36m \u001b[39m\u001b[32mIn[2]\u001b[39m\u001b[32m, line 2\u001b[39m\n\u001b[32m      1\u001b[39m \u001b[38;5;28;01mimport\u001b[39;00m\u001b[38;5;250m \u001b[39m\u001b[34;01mmatplotlib\u001b[39;00m\u001b[34;01m.\u001b[39;00m\u001b[34;01mpyplot\u001b[39;00m\u001b[38;5;250m \u001b[39m\u001b[38;5;28;01mas\u001b[39;00m\u001b[38;5;250m \u001b[39m\u001b[34;01mplt\u001b[39;00m\n\u001b[32m----> \u001b[39m\u001b[32m2\u001b[39m \u001b[38;5;28;01mimport\u001b[39;00m\u001b[38;5;250m \u001b[39m\u001b[34;01mseaborn\u001b[39;00m\u001b[38;5;250m \u001b[39m\u001b[38;5;28;01mas\u001b[39;00m\u001b[38;5;250m \u001b[39m\u001b[34;01msns\u001b[39;00m\n\u001b[32m      4\u001b[39m \u001b[38;5;66;03m# Load cleaned data\u001b[39;00m\n\u001b[32m      5\u001b[39m bios_clean = pd.read_csv(\u001b[33m'\u001b[39m\u001b[33mclean-data/bios.csv\u001b[39m\u001b[33m'\u001b[39m)\n",
      "\u001b[31mModuleNotFoundError\u001b[39m: No module named 'seaborn'"
     ]
    }
   ],
   "source": [
    "import matplotlib.pyplot as plt\n",
    "import seaborn as sns\n",
    "\n",
    "# Load cleaned data\n",
    "bios_clean = pd.read_csv('clean-data/bios.csv')\n",
    "results_clean = pd.read_csv('clean-data/results.csv')\n",
    "\n",
    "print(\"Bios Clean Data Head:\")\n",
    "print(bios_clean.head())\n",
    "print(\"\\nResults Clean Data Head:\")\n",
    "print(results_clean.head())\n"
   ]
  },
  {
   "cell_type": "code",
   "execution_count": 3,
   "metadata": {
    "execution": {
     "iopub.execute_input": "2025-08-11T16:03:02.772625Z",
     "iopub.status.busy": "2025-08-11T16:03:02.772126Z",
     "iopub.status.idle": "2025-08-11T16:03:02.840242Z",
     "shell.execute_reply": "2025-08-11T16:03:02.839103Z"
    }
   },
   "outputs": [
    {
     "ename": "NameError",
     "evalue": "name 'sns' is not defined",
     "output_type": "error",
     "traceback": [
      "\u001b[31m---------------------------------------------------------------------------\u001b[39m",
      "\u001b[31mNameError\u001b[39m                                 Traceback (most recent call last)",
      "\u001b[36mCell\u001b[39m\u001b[36m \u001b[39m\u001b[32mIn[3]\u001b[39m\u001b[32m, line 3\u001b[39m\n\u001b[32m      1\u001b[39m \u001b[38;5;66;03m# Plotting height distribution\u001b[39;00m\n\u001b[32m      2\u001b[39m plt.figure(figsize=(\u001b[32m10\u001b[39m, \u001b[32m6\u001b[39m))\n\u001b[32m----> \u001b[39m\u001b[32m3\u001b[39m \u001b[43msns\u001b[49m.histplot(bios_clean[\u001b[33m'\u001b[39m\u001b[33mheight_cm\u001b[39m\u001b[33m'\u001b[39m].dropna(), kde=\u001b[38;5;28;01mTrue\u001b[39;00m)\n\u001b[32m      4\u001b[39m plt.title(\u001b[33m'\u001b[39m\u001b[33mDistribution of Athlete Height (cm)\u001b[39m\u001b[33m'\u001b[39m)\n\u001b[32m      5\u001b[39m plt.xlabel(\u001b[33m'\u001b[39m\u001b[33mHeight (cm)\u001b[39m\u001b[33m'\u001b[39m)\n",
      "\u001b[31mNameError\u001b[39m: name 'sns' is not defined"
     ]
    },
    {
     "data": {
      "text/plain": [
       "<Figure size 1000x600 with 0 Axes>"
      ]
     },
     "metadata": {},
     "output_type": "display_data"
    }
   ],
   "source": [
    "# Plotting height distribution\n",
    "plt.figure(figsize=(10, 6))\n",
    "sns.histplot(bios_clean['height_cm'].dropna(), kde=True)\n",
    "plt.title('Distribution of Athlete Height (cm)')\n",
    "plt.xlabel('Height (cm)')\n",
    "plt.ylabel('Frequency')\n",
    "plt.savefig('height_distribution.png') # Save plot\n",
    "plt.show()\n",
    "\n",
    "# Plotting weight distribution\n",
    "plt.figure(figsize=(10, 6))\n",
    "sns.histplot(bios_clean['weight_kg'].dropna(), kde=True, color='orange')\n",
    "plt.title('Distribution of Athlete Weight (kg)')\n",
    "plt.xlabel('Weight (kg)')\n",
    "plt.ylabel('Frequency')\n",
    "plt.savefig('weight_distribution.png') # Save plot\n",
    "plt.show()\n"
   ]
  },
  {
   "cell_type": "code",
   "execution_count": 4,
   "metadata": {
    "execution": {
     "iopub.execute_input": "2025-08-11T16:03:02.843984Z",
     "iopub.status.busy": "2025-08-11T16:03:02.843639Z",
     "iopub.status.idle": "2025-08-11T16:03:02.901296Z",
     "shell.execute_reply": "2025-08-11T16:03:02.899978Z"
    }
   },
   "outputs": [
    {
     "ename": "NameError",
     "evalue": "name 'results_clean' is not defined",
     "output_type": "error",
     "traceback": [
      "\u001b[31m---------------------------------------------------------------------------\u001b[39m",
      "\u001b[31mNameError\u001b[39m                                 Traceback (most recent call last)",
      "\u001b[36mCell\u001b[39m\u001b[36m \u001b[39m\u001b[32mIn[4]\u001b[39m\u001b[32m, line 2\u001b[39m\n\u001b[32m      1\u001b[39m \u001b[38;5;66;03m# Medal counts by NOC\u001b[39;00m\n\u001b[32m----> \u001b[39m\u001b[32m2\u001b[39m medal_counts = \u001b[43mresults_clean\u001b[49m.groupby(\u001b[33m'\u001b[39m\u001b[33mnoc\u001b[39m\u001b[33m'\u001b[39m)[\u001b[33m'\u001b[39m\u001b[33mmedal\u001b[39m\u001b[33m'\u001b[39m].count().sort_values(ascending=\u001b[38;5;28;01mFalse\u001b[39;00m).head(\u001b[32m10\u001b[39m)\n\u001b[32m      3\u001b[39m plt.figure(figsize=(\u001b[32m12\u001b[39m, \u001b[32m7\u001b[39m))\n\u001b[32m      4\u001b[39m sns.barplot(x=medal_counts.index, y=medal_counts.values)\n",
      "\u001b[31mNameError\u001b[39m: name 'results_clean' is not defined"
     ]
    }
   ],
   "source": [
    "# Medal counts by NOC\n",
    "medal_counts = results_clean.groupby('noc')['medal'].count().sort_values(ascending=False).head(10)\n",
    "plt.figure(figsize=(12, 7))\n",
    "sns.barplot(x=medal_counts.index, y=medal_counts.values)\n",
    "plt.title('Top 10 NOCs by Medal Count')\n",
    "plt.xlabel('National Olympic Committee (NOC)')\n",
    "plt.ylabel('Medal Count')\n",
    "plt.savefig('top_n_nocs_medals.png') # Save plot\n",
    "plt.show()\n",
    "\n",
    "# Medals over time (example for Gold medals)\n",
    "gold_medals_over_time = results_clean[results_clean['medal'] == 'Gold'].groupby('year').size()\n",
    "plt.figure(figsize=(12, 7))\n",
    "gold_medals_over_time.plot(kind='line', marker='o')\n",
    "plt.title('Gold Medals Over Time')\n",
    "plt.xlabel('Year')\n",
    "plt.ylabel('Number of Gold Medals')\n",
    "plt.grid(True)\n",
    "plt.savefig('gold_medals_over_time.png') # Save plot\n",
    "plt.show()\n"
   ]
  }
 ],
 "metadata": {
  "language_info": {
   "codemirror_mode": {
    "name": "ipython",
    "version": 3
   },
   "file_extension": ".py",
   "mimetype": "text/x-python",
   "name": "python",
   "nbconvert_exporter": "python",
   "pygments_lexer": "ipython3",
   "version": "3.13.3"
  }
 },
 "nbformat": 4,
 "nbformat_minor": 2
}
