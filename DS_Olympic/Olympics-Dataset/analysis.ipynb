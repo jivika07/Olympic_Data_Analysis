{
 "cells": [
  {
   "cell_type": "code",
   "execution_count": null,
   "metadata": {},
   "outputs": [],
   "source": [
    "import pandas as pd "
   ]
  },
  {
   "cell_type": "code",
   "execution_count": null,
   "metadata": {},
   "outputs": [],
   "source": [
    "import matplotlib.pyplot as plt\n",
    "import seaborn as sns\n",
    "\n",
    "# Load cleaned data\n",
    "bios_clean = pd.read_csv('clean-data/bios.csv')\n",
    "results_clean = pd.read_csv('clean-data/results.csv')\n",
    "\n",
    "print(\"Bios Clean Data Head:\")\n",
    "print(bios_clean.head())\n",
    "print(\"\\nResults Clean Data Head:\")\n",
    "print(results_clean.head())\n"
   ]
  },
  {
   "cell_type": "code",
   "execution_count": null,
   "metadata": {},
   "outputs": [],
   "source": [
    "# Plotting height distribution\n",
    "plt.figure(figsize=(10, 6))\n",
    "sns.histplot(bios_clean['height_cm'].dropna(), kde=True)\n",
    "plt.title('Distribution of Athlete Height (cm)')\n",
    "plt.xlabel('Height (cm)')\n",
    "plt.ylabel('Frequency')\n",
    "plt.savefig('height_distribution.png') # Save plot\n",
    "plt.show()\n",
    "\n",
    "# Plotting weight distribution\n",
    "plt.figure(figsize=(10, 6))\n",
    "sns.histplot(bios_clean['weight_kg'].dropna(), kde=True, color='orange')\n",
    "plt.title('Distribution of Athlete Weight (kg)')\n",
    "plt.xlabel('Weight (kg)')\n",
    "plt.ylabel('Frequency')\n",
    "plt.savefig('weight_distribution.png') # Save plot\n",
    "plt.show()\n"
   ]
  },
  {
   "cell_type": "code",
   "execution_count": null,
   "metadata": {},
   "outputs": [],
   "source": [
    "# Medal counts by NOC\n",
    "medal_counts = results_clean.groupby('noc')['medal'].count().sort_values(ascending=False).head(10)\n",
    "plt.figure(figsize=(12, 7))\n",
    "sns.barplot(x=medal_counts.index, y=medal_counts.values)\n",
    "plt.title('Top 10 NOCs by Medal Count')\n",
    "plt.xlabel('National Olympic Committee (NOC)')\n",
    "plt.ylabel('Medal Count')\n",
    "plt.savefig('top_n_nocs_medals.png') # Save plot\n",
    "plt.show()\n",
    "\n",
    "# Medals over time (example for Gold medals)\n",
    "gold_medals_over_time = results_clean[results_clean['medal'] == 'Gold'].groupby('year').size()\n",
    "plt.figure(figsize=(12, 7))\n",
    "gold_medals_over_time.plot(kind='line', marker='o')\n",
    "plt.title('Gold Medals Over Time')\n",
    "plt.xlabel('Year')\n",
    "plt.ylabel('Number of Gold Medals')\n",
    "plt.grid(True)\n",
    "plt.savefig('gold_medals_over_time.png') # Save plot\n",
    "plt.show()\n"
   ]
  }
 ],
 "metadata": {
  "language_info": {
   "name": "python"
  }
 },
 "nbformat": 4,
 "nbformat_minor": 2
}
